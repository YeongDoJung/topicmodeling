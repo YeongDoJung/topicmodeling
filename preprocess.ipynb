{
 "cells": [
  {
   "cell_type": "code",
   "execution_count": 1,
   "metadata": {},
   "outputs": [],
   "source": [
    "import pandas as pd\n",
    "import numpy as np\n",
    "import konlpy\n",
    "import gensim\n",
    "from sklearn.decomposition import LatentDirichletAllocation as LDA\n",
    "\n",
    "f = pd.read_excel('./data/crawl_인구소멸_2023-07-25.xlsx')\n",
    "a = f['내용']\n",
    "a.dropna(axis = 0, inplace=True)"
   ]
  },
  {
   "cell_type": "code",
   "execution_count": 5,
   "metadata": {},
   "outputs": [],
   "source": [
    "kkma = konlpy.tag.Kkma()\n",
    "hannanum = konlpy.tag.Hannanum()\n",
    "nouns = [kkma.morphs(i) for i in a]\n",
    "nouns = pd.DataFrame(nouns)\n",
    "nouns.to_excel('./data/crawl_인구소멸_2023-07-25_kkma_morphs.xlsx')"
   ]
  },
  {
   "cell_type": "code",
   "execution_count": null,
   "metadata": {},
   "outputs": [],
   "source": []
  }
 ],
 "metadata": {
  "kernelspec": {
   "display_name": "ocrs",
   "language": "python",
   "name": "python3"
  },
  "language_info": {
   "codemirror_mode": {
    "name": "ipython",
    "version": 3
   },
   "file_extension": ".py",
   "mimetype": "text/x-python",
   "name": "python",
   "nbconvert_exporter": "python",
   "pygments_lexer": "ipython3",
   "version": "3.11.0"
  },
  "orig_nbformat": 4
 },
 "nbformat": 4,
 "nbformat_minor": 2
}
